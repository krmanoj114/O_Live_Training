{
 "cells": [
  {
   "cell_type": "markdown",
   "id": "1a02a5b4",
   "metadata": {},
   "source": [
    "# Exploratory Data Analysis with Python"
   ]
  },
  {
   "cell_type": "markdown",
   "id": "d1d6284a",
   "metadata": {},
   "source": [
    "This is the notebook for the O'Reilly Live Training - Exploratory Data Analysis with Python by Pratheerth Padman"
   ]
  },
  {
   "cell_type": "markdown",
   "id": "0038f885",
   "metadata": {},
   "source": [
    "## Introduction to EDA"
   ]
  },
  {
   "cell_type": "markdown",
   "id": "06e808e6",
   "metadata": {},
   "source": [
    "The dataset we're going to be using throughout the session, can be found at - https://www.kaggle.com/fedesoriano/stroke-prediction-dataset"
   ]
  },
  {
   "cell_type": "markdown",
   "id": "862638ee",
   "metadata": {},
   "source": [
    "#### Importing the required libraries"
   ]
  },
  {
   "cell_type": "code",
   "execution_count": null,
   "id": "4044639a",
   "metadata": {},
   "outputs": [],
   "source": [
    "import pandas as pd\n",
    "import numpy as np\n",
    "import matplotlib.pyplot as plt\n",
    "import seaborn as sns\n",
    "#import warnings\n",
    "\n",
    "#warnings.filterwarnings('ignore')\n",
    "sns.set(style=\"whitegrid\")\n",
    "%matplotlib inline\n",
    "#plt.rcParams['figure.figsize'] = [12, 8]"
   ]
  },
  {
   "cell_type": "markdown",
   "id": "48cfae68",
   "metadata": {},
   "source": [
    "#### First look at the dataset!"
   ]
  },
  {
   "cell_type": "markdown",
   "id": "c4fb4626",
   "metadata": {},
   "source": [
    "Here, we'll be using pandas to read the downloaded csv file. We'll then print the number of rows and columns in the dataset using the shape function.\n",
    "\n",
    "Then we'll get our first look at the dataset using the head function which by default prints out the first 5 rows of the dataset. If we want to print out the last 5 rows, we can use the tail function. We can also specify the number of rows we want to be printed out in the head or tail functions."
   ]
  },
  {
   "cell_type": "code",
   "execution_count": null,
   "id": "9e0b13ff",
   "metadata": {},
   "outputs": [],
   "source": [
    "# importing the dataset\n",
    "\n",
    "data_df = pd.read_csv(\"../data/healthcare-dataset-stroke-data.csv\")"
   ]
  },
  {
   "cell_type": "code",
   "execution_count": null,
   "id": "15740eaf",
   "metadata": {},
   "outputs": [],
   "source": [
    "# shape of the dataset\n",
    "\n",
    "print(\"The dataset has {} rows and {} columns\".format(data_df.shape[0], data_df.shape[1]))"
   ]
  },
  {
   "cell_type": "code",
   "execution_count": null,
   "id": "56d74e22",
   "metadata": {},
   "outputs": [],
   "source": [
    "# first few rows of the dataset\n",
    "\n",
    "data_df.head()"
   ]
  },
  {
   "cell_type": "code",
   "execution_count": null,
   "id": "40d91428",
   "metadata": {
    "scrolled": false
   },
   "outputs": [],
   "source": [
    "# last few rows\n",
    "\n",
    "data_df.tail(3)"
   ]
  },
  {
   "cell_type": "code",
   "execution_count": null,
   "id": "f65401d0",
   "metadata": {},
   "outputs": [],
   "source": [
    "#viewing the entire dataframe\n",
    "\n"
   ]
  },
  {
   "cell_type": "code",
   "execution_count": null,
   "id": "91dc28d3",
   "metadata": {},
   "outputs": [],
   "source": [
    "data_df"
   ]
  },
  {
   "cell_type": "code",
   "execution_count": null,
   "id": "c5ca95bc",
   "metadata": {
    "scrolled": true
   },
   "outputs": [],
   "source": [
    "# transpose\n",
    "\n",
    "data_df.head().T"
   ]
  },
  {
   "cell_type": "markdown",
   "id": "44acfbdd",
   "metadata": {},
   "source": [
    "#### Attribute Information"
   ]
  },
  {
   "cell_type": "markdown",
   "id": "a122a9f3",
   "metadata": {},
   "source": [
    "> 1) **id:** unique identifier\n",
    "\n",
    "> 2) **gender:** \"Male\", \"Female\" or \"Other\"\n",
    "\n",
    "> 3) **age:** age of the patient\n",
    "\n",
    "> 4) **hypertension:** 0 if the patient doesn't have hypertension, 1 if the patient has hypertension\n",
    "\n",
    "> 5) **heart_disease:** 0 if the patient doesn't have any heart diseases, 1 if the patient has a heart disease\n",
    "\n",
    "> 6) **ever_married:** \"No\" or \"Yes\"\n",
    "\n",
    "> 7) **work_type:** \"children\", \"Govt_jov\", \"Never_worked\", \"Private\" or \"Self-employed\"\n",
    "\n",
    "> 8) **Residence_type:** \"Rural\" or \"Urban\"\n",
    "\n",
    "> 9) **avg_glucose_level:** average glucose level in blood\n",
    "\n",
    "> 10) **bmi:** body mass index\n",
    "\n",
    "> 11) **smoking_status:** \"formerly smoked\", \"never smoked\", \"smokes\" or \"Unknown\"*\n",
    "\n",
    "> 12) **stroke:** 1 if the patient had a stroke or 0 if not\n",
    "\n",
    "*Note: \"Unknown\" in smoking_status means that the information is unavailable for this patient"
   ]
  },
  {
   "cell_type": "markdown",
   "id": "8d8af3a1",
   "metadata": {},
   "source": [
    "#### The Info Function"
   ]
  },
  {
   "cell_type": "markdown",
   "id": "99281c20",
   "metadata": {},
   "source": [
    "The info function helps us to identify the number of columns, if there are any missing values and also the type of features/variables that are in the dataset.\n",
    "Here \"object\" means its a categorical feature and both \"int64\" and \"float64\" means it is numerical."
   ]
  },
  {
   "cell_type": "code",
   "execution_count": null,
   "id": "809ac8b1",
   "metadata": {},
   "outputs": [],
   "source": [
    "data_df.info()"
   ]
  },
  {
   "cell_type": "markdown",
   "id": "99096201",
   "metadata": {},
   "source": [
    "#### Filter the dataset using datatype"
   ]
  },
  {
   "cell_type": "code",
   "execution_count": null,
   "id": "7d6a8524",
   "metadata": {},
   "outputs": [],
   "source": [
    "data_df.select_dtypes(include=[\"object\"])"
   ]
  },
  {
   "cell_type": "code",
   "execution_count": null,
   "id": "3023c483",
   "metadata": {},
   "outputs": [],
   "source": [
    "data_df.select_dtypes(include=[\"number\"])"
   ]
  },
  {
   "cell_type": "markdown",
   "id": "66bf4c35",
   "metadata": {},
   "source": [
    "#### Which person has the max bmi from the dataset?"
   ]
  },
  {
   "cell_type": "code",
   "execution_count": null,
   "id": "18caf2bd",
   "metadata": {},
   "outputs": [],
   "source": [
    "data_df[\"bmi\"]"
   ]
  },
  {
   "cell_type": "code",
   "execution_count": null,
   "id": "87d3aef4",
   "metadata": {},
   "outputs": [],
   "source": [
    "data_df[data_df.bmi == data_df.bmi.max()]"
   ]
  },
  {
   "cell_type": "code",
   "execution_count": null,
   "id": "da7f1b76",
   "metadata": {},
   "outputs": [],
   "source": [
    "max_bmi_person = data_df[data_df.bmi == data_df.bmi.max()]"
   ]
  },
  {
   "cell_type": "code",
   "execution_count": null,
   "id": "be05b457",
   "metadata": {},
   "outputs": [],
   "source": [
    "max_bmi_person.id"
   ]
  },
  {
   "cell_type": "markdown",
   "id": "e159a5b6",
   "metadata": {},
   "source": [
    "#### Questions on initial glance"
   ]
  },
  {
   "cell_type": "markdown",
   "id": "d97afc06",
   "metadata": {},
   "source": [
    "> 1. Is gender correlated with stroke? Are males or females more likely to get it?"
   ]
  },
  {
   "cell_type": "markdown",
   "id": "6e9fd775",
   "metadata": {},
   "source": [
    "## Excercise"
   ]
  },
  {
   "cell_type": "markdown",
   "id": "ccebad03",
   "metadata": {},
   "source": [
    "1. What is the value of the 10th observation of the age feature from the top of the dataset?"
   ]
  },
  {
   "cell_type": "code",
   "execution_count": null,
   "id": "a505c6ed",
   "metadata": {},
   "outputs": [],
   "source": []
  },
  {
   "cell_type": "markdown",
   "id": "45437ef5",
   "metadata": {},
   "source": [
    "2. What is the value of the 7th observation of the bmi feature from the bottom of the dataset? "
   ]
  },
  {
   "cell_type": "code",
   "execution_count": null,
   "id": "34470de3",
   "metadata": {},
   "outputs": [],
   "source": []
  },
  {
   "cell_type": "markdown",
   "id": "0981d8dd",
   "metadata": {},
   "source": [
    "3. What is the id number and work_type of the person with the lowest average_glucose_level in the dataset"
   ]
  },
  {
   "cell_type": "code",
   "execution_count": null,
   "id": "34bf5cae",
   "metadata": {},
   "outputs": [],
   "source": []
  },
  {
   "cell_type": "markdown",
   "id": "b0d98d57",
   "metadata": {},
   "source": [
    "4. Print out a filtered dataframe, based on three conditions:\n",
    "\n",
    "   a) Age is less than 30\n",
    "   b) Residence_type is Rural\n",
    "   c) Gender is female\n",
    "   \n",
    "   How many rows are there in the filtered dataset?"
   ]
  },
  {
   "cell_type": "code",
   "execution_count": null,
   "id": "24c0f11e",
   "metadata": {},
   "outputs": [],
   "source": []
  },
  {
   "cell_type": "markdown",
   "id": "8a328510",
   "metadata": {},
   "source": [
    "## Univariate Data Analysis"
   ]
  },
  {
   "cell_type": "markdown",
   "id": "f1d40fda",
   "metadata": {},
   "source": [
    "#### Data Description"
   ]
  },
  {
   "cell_type": "markdown",
   "id": "a1ac66b9",
   "metadata": {},
   "source": [
    "The data describe function helps to print out some basic summary statistics like count, mean, standard deviation, max value, min value and the 25th, 50th and 75th percentile of each of the variables. It works for both numerical and categorical features, but in different ways."
   ]
  },
  {
   "cell_type": "code",
   "execution_count": null,
   "id": "74051af3",
   "metadata": {},
   "outputs": [],
   "source": [
    "# data description for numerical columns\n",
    "\n",
    "data_df.describe()"
   ]
  },
  {
   "cell_type": "markdown",
   "id": "33a58fe3",
   "metadata": {},
   "source": [
    "#### Target Variable - Stroke"
   ]
  },
  {
   "cell_type": "code",
   "execution_count": null,
   "id": "011da370",
   "metadata": {},
   "outputs": [],
   "source": [
    "# occurences of each value\n",
    "\n",
    "data_df.stroke.value_counts()"
   ]
  },
  {
   "cell_type": "code",
   "execution_count": null,
   "id": "a3ad0d0e",
   "metadata": {
    "scrolled": false
   },
   "outputs": [],
   "source": [
    "# stroke - pie chart\n",
    "\n",
    "stroke_labels = [\"No Stroke\", \"Stroke\"]\n",
    "\n",
    "sizes = data_df.stroke.value_counts()\n",
    "\n",
    "plt.pie(x=sizes, labels=stroke_labels, autopct=\"%1.1f%%\")\n",
    "\n",
    "plt.show()"
   ]
  },
  {
   "cell_type": "markdown",
   "id": "d2db8d4d",
   "metadata": {},
   "source": [
    "#### Continuous Numerical Features - age, avg_glucose_level, bmi"
   ]
  },
  {
   "cell_type": "markdown",
   "id": "f3ba204b",
   "metadata": {},
   "source": [
    "**Histogram**\n",
    "\n",
    "A histogram displays numerical data by grouping data into \"bins\" of equal width. Each bin is plotted as a bar whose height corresponds to how many data points are in that bin."
   ]
  },
  {
   "cell_type": "code",
   "execution_count": null,
   "id": "127d7768",
   "metadata": {
    "scrolled": false
   },
   "outputs": [],
   "source": [
    "# single plot - age\n",
    "\n",
    "sns.histplot(data_df.age, bins=30).set(title=\"Histogram of Age\", xlabel=\"Age in Years\")\n",
    "\n",
    "plt.show()"
   ]
  },
  {
   "cell_type": "code",
   "execution_count": null,
   "id": "7097e102",
   "metadata": {},
   "outputs": [],
   "source": [
    "# age histogram in people with stroke\n",
    "\n",
    "sns.histplot(data_df.age[data_df[\"stroke\"]==1], bins=30).set(title=\"Histogram of Age with Stroke\", xlabel=\"Age in Years\")\n",
    "\n",
    "plt.show()"
   ]
  },
  {
   "cell_type": "code",
   "execution_count": null,
   "id": "e36c0457",
   "metadata": {
    "scrolled": false
   },
   "outputs": [],
   "source": [
    "# subplots - bmi, avg_glucose_level\n",
    "\n",
    "fig, (ax1, ax2) = plt.subplots(nrows=1,ncols=2, figsize=(15,10))\n",
    "\n",
    "sns.histplot(data_df.bmi, bins=30, ax=ax1).set(title=\"Histogram of BMI\", xlabel=\"BMI\")\n",
    "sns.histplot(data_df.avg_glucose_level, bins=30, ax=ax2, color=\"green\").set(title=\"Histogram of Glucose Level\", xlabel=\"Glucose Level (mg/dl)\")\n",
    "\n",
    "    \n",
    "plt.tight_layout()\n",
    "plt.show()"
   ]
  },
  {
   "cell_type": "markdown",
   "id": "e3b2ce16",
   "metadata": {},
   "source": [
    "#### Boxplots and Outliers"
   ]
  },
  {
   "cell_type": "markdown",
   "id": "22638b9a",
   "metadata": {},
   "source": [
    "A boxplot is a standardized way of displaying the distribution of data based on a five number summary (“minimum”, first quartile (Q1), median, third quartile (Q3), and “maximum”). It can tell you about your outliers and what their values are. It can also tell you if your data is symmetrical, how tightly your data is grouped, and if and how your data is skewed."
   ]
  },
  {
   "cell_type": "markdown",
   "id": "81a7a080",
   "metadata": {},
   "source": [
    "![title](../assets/boxplot1.png)\n",
    "\n",
    "Image Credit: https://towardsdatascience.com/understanding-boxplots-5e2df7bcbd51"
   ]
  },
  {
   "cell_type": "code",
   "execution_count": null,
   "id": "a23ce6a3",
   "metadata": {},
   "outputs": [],
   "source": [
    "fig, (ax1, ax2, ax3) = plt.subplots(3, 1, figsize=(15,8))\n",
    "\n",
    "sns.boxplot(data_df.age, ax=ax1, palette=\"Greens\").set(title=\"Boxplot - Age\")\n",
    "sns.boxplot(data_df.bmi, ax=ax2, palette=\"Blues\").set(title=\"Boxplot - BMI\")\n",
    "sns.boxplot(data_df.avg_glucose_level, ax=ax3, palette=\"Set1\").set(title=\"Boxplot - Glucose Level\")\n",
    "\n",
    "plt.tight_layout()\n",
    "plt.show()"
   ]
  },
  {
   "cell_type": "markdown",
   "id": "d8e3e486",
   "metadata": {},
   "source": [
    "#### Should We Remove or Keep Outliers?"
   ]
  },
  {
   "cell_type": "markdown",
   "id": "4fe8412e",
   "metadata": {},
   "source": [
    "#### Categorical Features - gender, ever_married, work_type, residence_type, smoking_status"
   ]
  },
  {
   "cell_type": "code",
   "execution_count": null,
   "id": "ac2455bd",
   "metadata": {
    "scrolled": true
   },
   "outputs": [],
   "source": [
    "# data description for non-numerical columns\n",
    "\n",
    "data_df.describe(exclude = [\"number\"])"
   ]
  },
  {
   "cell_type": "markdown",
   "id": "0e84b07e",
   "metadata": {},
   "source": [
    "#### Countplot"
   ]
  },
  {
   "cell_type": "code",
   "execution_count": null,
   "id": "e988f789",
   "metadata": {},
   "outputs": [],
   "source": [
    "# countplots for gender, ever_married and work_type\n",
    "\n",
    "fig, ax = plt.subplots(1, 3, figsize=(15,8))\n",
    "\n",
    "sns.countplot(data_df.gender, ax=ax[0]).set(title=\"Gender\")\n",
    "sns.countplot(data_df.ever_married, ax=ax[1]).set(title=\"Have they ever married?\")\n",
    "sns.countplot(data_df.work_type, ax=ax[2]).set(title=\"What type of work do they do?\")\n",
    "\n",
    "plt.tight_layout()\n",
    "\n",
    "plt.show()"
   ]
  },
  {
   "cell_type": "code",
   "execution_count": null,
   "id": "040ce563",
   "metadata": {},
   "outputs": [],
   "source": [
    "# same thing as above for people who've had a stroke\n",
    "\n",
    "fig, ax = plt.subplots(1, 3, figsize=(15,8))\n",
    "\n",
    "sns.countplot(data_df.gender[data_df[\"stroke\"]==1], ax=ax[0]).set(title=\"Gender\")\n",
    "sns.countplot(data_df.ever_married[data_df[\"stroke\"]==1], ax=ax[1]).set(title=\"Have they ever married?\")\n",
    "sns.countplot(data_df.work_type[data_df[\"stroke\"]==1], ax=ax[2]).set(title=\"What type of work do they do?\")\n",
    "\n",
    "plt.tight_layout()\n",
    "\n",
    "for ax in fig.axes:\n",
    "    plt.sca(ax)\n",
    "    plt.xticks(rotation=45)\n",
    "\n",
    "plt.show()"
   ]
  },
  {
   "cell_type": "code",
   "execution_count": null,
   "id": "be73385d",
   "metadata": {},
   "outputs": [],
   "source": [
    "# countplots for residence_type and smoking_status\n",
    "\n",
    "fig, ax = plt.subplots(1, 2, figsize=(15,8))\n",
    "\n",
    "sns.countplot(data_df.Residence_type, ax=ax[0]).set(title=\"Where do they live?\")\n",
    "sns.countplot(data_df.smoking_status, ax=ax[1]).set(title=\"Have they smoked?\")\n",
    "\n",
    "\n",
    "plt.tight_layout()\n",
    "\n",
    "for ax in fig.axes:\n",
    "    plt.sca(ax)\n",
    "    plt.xticks(rotation=45)\n",
    "\n",
    "plt.show()"
   ]
  },
  {
   "cell_type": "code",
   "execution_count": null,
   "id": "ab6623c3",
   "metadata": {},
   "outputs": [],
   "source": [
    "# same as above for people who've had a stroke\n",
    "\n",
    "fig, ax = plt.subplots(1, 2, figsize=(15,8))\n",
    "\n",
    "sns.countplot(data_df.Residence_type[data_df[\"stroke\"]==1], ax=ax[0]).set(title=\"Where do they live?\")\n",
    "sns.countplot(data_df.smoking_status[data_df[\"stroke\"]==1], ax=ax[1]).set(title=\"Have they smoked?\")\n",
    "\n",
    "for ax in fig.axes:\n",
    "    plt.sca(ax)\n",
    "    plt.xticks(rotation=45)\n",
    "    \n",
    "plt.tight_layout()\n",
    "plt.show()"
   ]
  },
  {
   "cell_type": "markdown",
   "id": "ba929858",
   "metadata": {},
   "source": [
    "## Bivariate Data Analysis"
   ]
  },
  {
   "cell_type": "markdown",
   "id": "19e73eb6",
   "metadata": {},
   "source": [
    "#### Do older people tend to get more strokes?"
   ]
  },
  {
   "cell_type": "code",
   "execution_count": null,
   "id": "9ae10fa5",
   "metadata": {
    "scrolled": false
   },
   "outputs": [],
   "source": [
    "sns.boxplot(data_df.stroke, data_df.age)\n",
    "plt.show()"
   ]
  },
  {
   "cell_type": "markdown",
   "id": "3497f68d",
   "metadata": {},
   "source": [
    "#### Is there a connection between the type of work you do and your bmi?"
   ]
  },
  {
   "cell_type": "code",
   "execution_count": null,
   "id": "8102edc6",
   "metadata": {
    "scrolled": false
   },
   "outputs": [],
   "source": [
    "sns.violinplot(data_df.work_type, data_df.bmi)\n",
    "plt.show()"
   ]
  },
  {
   "cell_type": "markdown",
   "id": "7ebd26c0",
   "metadata": {},
   "source": [
    "#### Do older people have a higher average glucose level?"
   ]
  },
  {
   "cell_type": "code",
   "execution_count": null,
   "id": "53808ef7",
   "metadata": {
    "scrolled": false
   },
   "outputs": [],
   "source": [
    "sns.scatterplot(data_df.age, data_df.avg_glucose_level)\n",
    "plt.show()"
   ]
  },
  {
   "cell_type": "code",
   "execution_count": null,
   "id": "a4205fd8",
   "metadata": {},
   "outputs": [],
   "source": [
    "# linear regression model - shows trend\n",
    "sns.regplot(data_df.age, data_df.avg_glucose_level)\n",
    "plt.show()"
   ]
  },
  {
   "cell_type": "markdown",
   "id": "fd812e6f",
   "metadata": {},
   "source": [
    "#### Smoking vs Stroke and Work Type vs Hypertension"
   ]
  },
  {
   "cell_type": "code",
   "execution_count": null,
   "id": "dce84496",
   "metadata": {},
   "outputs": [],
   "source": [
    "fig, ax = plt.subplots(1, 2, figsize=(15,8))\n",
    "\n",
    "sns.countplot(x=\"stroke\", hue=\"smoking_status\", data=data_df, ax=ax[0]).set(title=\"Smoking vs Stroke\")\n",
    "sns.countplot(x=\"hypertension\", hue=\"work_type\", data=data_df, ax=ax[1], palette=\"Set2\").set(title=\"Work Type vs Hypertension\")\n",
    "\n",
    "plt.tight_layout()\n",
    "plt.show()"
   ]
  },
  {
   "cell_type": "markdown",
   "id": "509ce030",
   "metadata": {},
   "source": [
    "## Exercise"
   ]
  },
  {
   "cell_type": "markdown",
   "id": "6932f166",
   "metadata": {},
   "source": [
    "   Create a 3 plot figure to answer the following questions:\n",
    "   \n",
    "   a) What is the percentage of people with hypertension in the dataset?\n",
    "   \n",
    "   b) In the different values within the feature \"smoking_status\", do men outnumber the women in any of them?\n",
    "   \n",
    "   c) What can you tell me about the relationship between the type of work and the age?\n",
    "   \n",
    "   All figures should contain titles."
   ]
  },
  {
   "cell_type": "code",
   "execution_count": null,
   "id": "e43e35aa",
   "metadata": {},
   "outputs": [],
   "source": []
  },
  {
   "cell_type": "markdown",
   "id": "8d4f8f4c",
   "metadata": {},
   "source": [
    "## Missing Data"
   ]
  },
  {
   "cell_type": "code",
   "execution_count": null,
   "id": "657755f2",
   "metadata": {},
   "outputs": [],
   "source": [
    "data_df.isnull()"
   ]
  },
  {
   "cell_type": "code",
   "execution_count": null,
   "id": "175bc0b9",
   "metadata": {},
   "outputs": [],
   "source": [
    "data_df.bmi.mean()"
   ]
  },
  {
   "cell_type": "code",
   "execution_count": null,
   "id": "e39be9be",
   "metadata": {},
   "outputs": [],
   "source": [
    "data_df.bmi.median()"
   ]
  },
  {
   "cell_type": "code",
   "execution_count": null,
   "id": "1df26416",
   "metadata": {
    "scrolled": true
   },
   "outputs": [],
   "source": [
    "data_df[data_df[\"bmi\"].isnull()]"
   ]
  },
  {
   "cell_type": "code",
   "execution_count": null,
   "id": "dacfb287",
   "metadata": {},
   "outputs": [],
   "source": [
    "# create a missing indicator feature for bmi\n",
    "\n",
    "data_df[\"bmi_nan\"] = np.where(data_df[\"bmi\"].isnull(), 1, 0)"
   ]
  },
  {
   "cell_type": "code",
   "execution_count": null,
   "id": "2ca5847e",
   "metadata": {},
   "outputs": [],
   "source": [
    "data_df.head()"
   ]
  },
  {
   "cell_type": "code",
   "execution_count": null,
   "id": "54a0dfe8",
   "metadata": {},
   "outputs": [],
   "source": [
    "# fill missing bmi values with mean\n",
    "\n",
    "data_df[\"bmi\"].fillna(data_df[\"bmi\"].mean(), inplace=True)\n",
    "\n",
    "data_df.head()"
   ]
  },
  {
   "cell_type": "markdown",
   "id": "edfe8f0c",
   "metadata": {},
   "source": [
    "## Correlation Analysis"
   ]
  },
  {
   "cell_type": "code",
   "execution_count": null,
   "id": "40b89dc9",
   "metadata": {
    "scrolled": true
   },
   "outputs": [],
   "source": [
    "data_df.corr()"
   ]
  },
  {
   "cell_type": "code",
   "execution_count": null,
   "id": "ad5bf39f",
   "metadata": {},
   "outputs": [],
   "source": [
    "data_df.corr(method=\"spearman\")"
   ]
  },
  {
   "cell_type": "code",
   "execution_count": null,
   "id": "53737b7f",
   "metadata": {},
   "outputs": [],
   "source": [
    "sns.heatmap(data_df.corr(), annot=True)\n",
    "#plt.savefig(\"heatmap.jpeg\")\n",
    "plt.show()"
   ]
  },
  {
   "cell_type": "code",
   "execution_count": null,
   "id": "54e02a03",
   "metadata": {},
   "outputs": [],
   "source": []
  }
 ],
 "metadata": {
  "kernelspec": {
   "display_name": "Python 3",
   "language": "python",
   "name": "python3"
  },
  "language_info": {
   "codemirror_mode": {
    "name": "ipython",
    "version": 3
   },
   "file_extension": ".py",
   "mimetype": "text/x-python",
   "name": "python",
   "nbconvert_exporter": "python",
   "pygments_lexer": "ipython3",
   "version": "3.6.13"
  }
 },
 "nbformat": 4,
 "nbformat_minor": 5
}
